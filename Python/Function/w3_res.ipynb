{
 "cells": [
  {
   "cell_type": "code",
   "execution_count": null,
   "metadata": {},
   "outputs": [],
   "source": [
    "#question1\n",
    "def gre(num1,num2,num3):\n",
    "    if num1>num2 and num1>num3:\n",
    "        print(\"Number 1 is greatest\")\n",
    "    elif num2>num3 and num2>num1:\n",
    "        print(\"Number 2 is greatest\")\n",
    "    else:\n",
    "        print(\"Number 3 is greatest\")\n",
    "gre(5,9,1)"
   ]
  }
 ],
 "metadata": {
  "language_info": {
   "name": "python"
  },
  "orig_nbformat": 4
 },
 "nbformat": 4,
 "nbformat_minor": 2
}

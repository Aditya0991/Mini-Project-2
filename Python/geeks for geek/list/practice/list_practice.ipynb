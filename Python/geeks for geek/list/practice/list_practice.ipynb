{
 "cells": [
  {
   "cell_type": "code",
   "execution_count": null,
   "metadata": {},
   "outputs": [],
   "source": [
    "#Question = 01\n",
    "lst = [2,4,6,1,0]\n",
    "first = lst[0]\n",
    "last = lst[-1]\n",
    "lst[0] = last\n",
    "lst[-1] = first\n",
    "print(lst)                          "
   ]
  },
  {
   "cell_type": "code",
   "execution_count": null,
   "metadata": {},
   "outputs": [],
   "source": [
    "#Question -02\n",
    "lst = [2,7,3,1,0]\n",
    "ele1 ,ele2= eval(input(\"Enter two element index you want to swap: \"))\n",
    "temp = lst[ele2]\n",
    "lst[ele2] = lst[ele1]\n",
    "lst[ele1] = temp\n",
    "print(lst)"
   ]
  },
  {
   "cell_type": "code",
   "execution_count": null,
   "metadata": {},
   "outputs": [],
   "source": [
    "#Question - 03\n",
    "lst = ['one', 'two' , 'three','four']\n",
    "swap1,swap2 = eval(input(\"Enter the index you want to swap: \")) \n",
    "temp = lst[swap1]\n",
    "lst[swap1] = lst[swap2]\n",
    "lst[swap2] = temp\n",
    "print(lst) "
   ]
  },
  {
   "cell_type": "code",
   "execution_count": null,
   "metadata": {},
   "outputs": [],
   "source": [
    "#Question - 04\n",
    "lst = ['one',7,'ten',1,(1,2,3)]\n",
    "#Method 1\n",
    "print(len(lst))\n",
    "#Method 2\n",
    "count =0 \n",
    "for i in lst:\n",
    "    count+=1\n",
    "print(count)"
   ]
  },
  {
   "cell_type": "code",
   "execution_count": null,
   "metadata": {},
   "outputs": [],
   "source": [
    "#Question - 05\n",
    "lst = [13,5]\n",
    "print(max(lst))\n",
    "#Question - 06\n",
    "print(min(lst))"
   ]
  },
  {
   "cell_type": "code",
   "execution_count": null,
   "metadata": {},
   "outputs": [],
   "source": [
    "#question -07\n",
    "lst = [2,4,6,7,43]\n",
    "ele = eval(input(\"Enter the element you want to find\"))\n",
    "idx = 0\n",
    "for i in lst:\n",
    "    idx +=1\n",
    "    if i == ele:\n",
    "        print(f\"Element is present at position {idx}\")"
   ]
  },
  {
   "cell_type": "code",
   "execution_count": null,
   "metadata": {},
   "outputs": [],
   "source": [
    "#Question - 08\n",
    "lst = [2,4,6,7,43]\n",
    "lst.clear()\n",
    "print(lst)\n",
    "#Method -02\n",
    "lst = [2,4,6,7,43]\n",
    "lst *= 0\n",
    "print(lst)\n",
    "#Method - 03\n",
    "lst = [2,4,6,7,43]\n",
    "del lst[:]\n",
    "print(lst)"
   ]
  },
  {
   "cell_type": "code",
   "execution_count": null,
   "metadata": {},
   "outputs": [],
   "source": [
    "#Question - 09\n",
    "lst = [1,2,3,4,5,6]\n",
    "lst.reverse()\n",
    "print(lst)\n",
    "#Method -02\n",
    "lst = [1,2,3,4,5,6]\n",
    "lst1 = []\n",
    "for i in range(len(lst)-1,-1,-1):\n",
    "    lst1.append(lst[i])\n",
    "print(lst1)\n",
    "#Method -03\n",
    "lst =[1,2,3,4,5,6]\n",
    "lst1 = []\n",
    "lst1 = lst[::-1]\n",
    "print(lst1)\n",
    "    "
   ]
  },
  {
   "cell_type": "code",
   "execution_count": null,
   "metadata": {},
   "outputs": [],
   "source": [
    "#Question -10\n",
    "lst =[1,2,3,4,5,6]\n",
    "lst1 = lst.copy()\n",
    "lst.clear()\n",
    "print(lst1)\n",
    "print(lst)\n",
    "#Method 02\n",
    "lst2 =lst1[::]\n",
    "print(lst2)"
   ]
  },
  {
   "cell_type": "code",
   "execution_count": null,
   "metadata": {},
   "outputs": [],
   "source": [
    "#Question -11\n",
    "lst = [2,4,1,2,4]\n",
    "for i in lst:\n",
    "    print(i , lst.count(i))\n",
    "\n",
    "#Method -02\n",
    "dct = {}\n"
   ]
  }
 ],
 "metadata": {
  "interpreter": {
   "hash": "1e649b193d03f972cce0fc4f5c57764441ad8ceea30bfcf30b505dea29a3b4c0"
  },
  "kernelspec": {
   "display_name": "Python 3.10.2 64-bit",
   "language": "python",
   "name": "python3"
  },
  "language_info": {
   "codemirror_mode": {
    "name": "ipython",
    "version": 3
   },
   "file_extension": ".py",
   "mimetype": "text/x-python",
   "name": "python",
   "nbconvert_exporter": "python",
   "pygments_lexer": "ipython3",
   "version": "3.10.2"
  },
  "orig_nbformat": 4
 },
 "nbformat": 4,
 "nbformat_minor": 2
}

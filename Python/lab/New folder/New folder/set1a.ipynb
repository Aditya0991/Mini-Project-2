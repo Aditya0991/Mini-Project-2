{
 "cells": [
  {
   "cell_type": "code",
   "execution_count": null,
   "metadata": {},
   "outputs": [],
   "source": [
    "#set1a\n",
    "T = int(input('Enter the free space: '))\n",
    "U = int(input('Enter the used space: '))\n",
    "O = int(input('Enter the size of delete space: '))\n",
    "H = int(input('Enter the size of new file :'))\n",
    "u_spc = U-O+H\n",
    "f_spc = T+U-H\n",
    "print('used space: ',u_spc)\n",
    "print('free space: ',f_spc)"
   ]
  },
  {
   "cell_type": "code",
   "execution_count": null,
   "metadata": {},
   "outputs": [],
   "source": [
    "# set1b\n",
    "data = input('Enter the data').split('-')\n",
    "print(data)\n",
    "data.sort()\n",
    "print(data)"
   ]
  },
  {
   "cell_type": "code",
   "execution_count": null,
   "metadata": {},
   "outputs": [],
   "source": [
    "# set1b\n",
    "f = open('mydata.txt','w')\n",
    "f.write('Name : Aditya kumar \\t Course : B-Tech')\n",
    "f.close()"
   ]
  },
  {
   "cell_type": "code",
   "execution_count": null,
   "metadata": {},
   "outputs": [],
   "source": [
    "#SET2B\n",
    "import string\n",
    "ASI_value = {i : ord(i) for i in string.ascii_lowercase}\n",
    "print(ASI_value)\n",
    "name = input(\"Enter the name :\")\n",
    "ASCII_score = 0\n",
    "for i in range(0 , len(name)):\n",
    "    ASCII_score+=(ASI_value[name[i]])\n",
    "print(ASCII_score)"
   ]
  },
  {
   "cell_type": "code",
   "execution_count": null,
   "metadata": {},
   "outputs": [],
   "source": [
    "#set2c\n",
    "f = open('data.txt','r')\n",
    "# st  = f.read()\n",
    "# print(st)\n",
    "a = f.readlines()\n",
    "print(a)"
   ]
  },
  {
   "cell_type": "code",
   "execution_count": null,
   "metadata": {},
   "outputs": [],
   "source": [
    "#set3Q1\n",
    "shirt = int(input('Enter the number of shirts: '))\n",
    "game = int(input('Enter the number of games: '))\n",
    "braclets = int(input(\"Enter the number of bracelets: \"))\n",
    "total = ((shirt*680)+(game*750)+(braclets*230))\n",
    "\n",
    "shirt1 = int(input('Enter the number of shirts return: '))\n",
    "braclets1 = int(input('Enter the number of bracelet return: '))\n",
    "total1 = total-((braclets1*230)+(shirt1*340))\n",
    "print(\"net payble: \",total1)"
   ]
  },
  {
   "cell_type": "code",
   "execution_count": null,
   "metadata": {},
   "outputs": [],
   "source": [
    "#set3b\n",
    "import random\n",
    "f = open('info.txt','w')\n",
    "Lin_n = int(input(\"Enter the number of line you want to added:\"))\n",
    "r_num = int(input('Enter the range of random number: '))\n",
    "for i in range(1,Lin_n+1):\n",
    "    s =str(random.randint(0,r_num))+'\\n'\n",
    "    f.write(s)\n",
    "f.close()\n",
    "\n",
    "f = open('info.txt','r')\n",
    "sum = 0\n",
    "for i in f:\n",
    "    sum+=int(i)\n",
    "print(sum)"
   ]
  },
  {
   "cell_type": "code",
   "execution_count": null,
   "metadata": {},
   "outputs": [],
   "source": [
    "#set4b\n",
    "f = open('data.txt','r')\n",
    "file =f.read()\n",
    "cap=low=0\n",
    "for i in file:\n",
    "    # print(i)\n",
    "    if (i.isupper()):\n",
    "        cap+=1\n",
    "    elif (i.islower()):\n",
    "        low+=1\n",
    "print(f'upper : {cap} and lower {low}')"
   ]
  },
  {
   "cell_type": "code",
   "execution_count": null,
   "metadata": {},
   "outputs": [],
   "source": [
    "#set5 c\n",
    "f = open('data.txt','r')\n",
    "st_alp=st_digit= ''\n",
    "\n",
    "file = f.read()\n",
    "for i in file:\n",
    "    if i.isalpha():\n",
    "        st_alp+=i\n",
    "    elif i.isdigit():\n",
    "        st_digit+=1\n"
   ]
  },
  {
   "cell_type": "code",
   "execution_count": null,
   "metadata": {},
   "outputs": [],
   "source": [
    "st = input('Enter the string').split()\n",
    "st1=''\n",
    "for i in st:\n",
    "    if i not in st1:\n",
    "        st1+=i+' '\n",
    "print(st1)\n",
    "print(sorted(st1))\n",
    "print(st1)"
   ]
  },
  {
   "cell_type": "code",
   "execution_count": null,
   "metadata": {},
   "outputs": [],
   "source": []
  }
 ],
 "metadata": {
  "interpreter": {
   "hash": "876db7d3f8682b7e4c5477e5f1e2dc2bd1b19fe05d9aabd59218369070754b39"
  },
  "kernelspec": {
   "display_name": "Python 3.10.2 64-bit",
   "language": "python",
   "name": "python3"
  },
  "language_info": {
   "codemirror_mode": {
    "name": "ipython",
    "version": 3
   },
   "file_extension": ".py",
   "mimetype": "text/x-python",
   "name": "python",
   "nbconvert_exporter": "python",
   "pygments_lexer": "ipython3",
   "version": "3.10.2"
  },
  "orig_nbformat": 4
 },
 "nbformat": 4,
 "nbformat_minor": 2
}

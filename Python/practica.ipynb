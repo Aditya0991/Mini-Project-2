{
 "cells": [
  {
   "cell_type": "code",
   "execution_count": null,
   "metadata": {},
   "outputs": [],
   "source": [
    "#Add two matrix using list compresion\n",
    "X = [[1,2,3],\n",
    "        [4,5,6]]\n",
    "Y = [[1,2,3],\n",
    "        [4,5,6]]\n",
    "result = [[X[i][j] + Y[i][j]  for j in range(len(X[0]))] for i in range(len(X))]\n",
    "\n",
    "for r in result:\n",
    "   print(r)"
   ]
  },
  {
   "cell_type": "code",
   "execution_count": null,
   "metadata": {},
   "outputs": [],
   "source": [
    "#check prime number using for loop\n",
    "n = int(input('Enter the number :'))\n",
    "count = 0\n",
    "while n>0:\n",
    "    for i in range (1,n+1):\n",
    "        if n%i==0:\n",
    "            count +=1\n",
    "    break\n",
    "if count==2:\n",
    "    print('Number is prime')\n",
    "else:\n",
    "    print('Number is not prime')"
   ]
  },
  {
   "cell_type": "code",
   "execution_count": null,
   "metadata": {},
   "outputs": [],
   "source": [
    "l1 = [1,2,3]\n",
    "l2 = [4,5,6]\n",
    "l = list(zip(l1,l2))\n",
    "print(l)"
   ]
  },
  {
   "cell_type": "code",
   "execution_count": null,
   "metadata": {},
   "outputs": [],
   "source": [
    "def nex_prime(n):\n",
    "    while True:\n",
    "        n+=1\n",
    "        for i in range(2,n):\n",
    "            if n%i==0:\n",
    "                break\n",
    "        else :\n",
    "            return n\n",
    "n = int(input('Enter the number : '))\n",
    "nex_prime(n)\n"
   ]
  },
  {
   "cell_type": "code",
   "execution_count": null,
   "metadata": {},
   "outputs": [],
   "source": [
    "def greet():\n",
    "    global a\n",
    "    a =10\n",
    "    print(a)\n",
    "\n",
    "a =100\n",
    "greet()\n",
    "print(a)"
   ]
  },
  {
   "cell_type": "code",
   "execution_count": null,
   "metadata": {},
   "outputs": [],
   "source": [
    "def greet():\n",
    "    def function1():\n",
    "        a =0        #local - A variable created inside a function belongs to the local scope of that function, \n",
    "        #                    and can only be used inside that function.\n",
    "    def function2():\n",
    "        a =1\n",
    "    def function3():\n",
    "        a =99\n",
    "    a = 4           #Non-Local - The nonlocal keyword is used to work with variables inside nested functions,\n",
    "    #                             where the variable should not belong to the inner function.\n",
    "    function1()\n",
    "    print(a)\n",
    "    function2()\n",
    "    print(a)\n",
    "    function3()\n",
    "    print(a)\n",
    "a =100               #Global - A variable created in the main body of the Python code is a global variable and\n",
    "#                              belongs to the global scope.\n",
    "greet()\n",
    "print(a)"
   ]
  },
  {
   "cell_type": "code",
   "execution_count": null,
   "metadata": {},
   "outputs": [],
   "source": [
    "def myfunc1():\n",
    "    x = \"John\"\n",
    "    def myfunc2():\n",
    "          nonlocal x\n",
    "          x = \"hello\"\n",
    "    myfunc2()\n",
    "    return x\n",
    "\n",
    "print(myfunc1())        #hello\n",
    "\n",
    "\n",
    "\n",
    "def myfunc1():\n",
    "    x = \"John\"\n",
    "    def myfunc2():\n",
    "        x = \"hello\"\n",
    "    myfunc2()\n",
    "    return x\n",
    "\n",
    "print(myfunc1())   #john"
   ]
  },
  {
   "cell_type": "code",
   "execution_count": null,
   "metadata": {},
   "outputs": [],
   "source": [
    "ls = [6,7,8,9]\n",
    "a =map(lambda x:x-2,ls)\n",
    "print(list(a))"
   ]
  },
  {
   "cell_type": "code",
   "execution_count": null,
   "metadata": {},
   "outputs": [],
   "source": [
    "ls = ['Riyansh' , 'Geetu' , 'Anu']\n",
    "ls.sort(key = len)\n",
    "print(ls)\n",
    "\n",
    "ls.sort(key = lambda x:x[-1])\n",
    "print(ls)\n",
    "\n",
    "ls.sort(key = lambda x:x[0])\n",
    "print(ls)"
   ]
  },
  {
   "cell_type": "code",
   "execution_count": null,
   "metadata": {},
   "outputs": [],
   "source": [
    "import random\n",
    "# o = random.randint(1000,9999)\n",
    "# print(o)\n",
    "\n",
    "\n",
    "v = random.random()\n",
    "print(str(v)[-4:])"
   ]
  },
  {
   "cell_type": "code",
   "execution_count": null,
   "metadata": {},
   "outputs": [],
   "source": [
    "import math\n",
    "\n",
    "o = math.ceil(422.000001)\n",
    "print(o)"
   ]
  },
  {
   "cell_type": "code",
   "execution_count": null,
   "metadata": {},
   "outputs": [],
   "source": [
    "def fun():\n",
    "    print(a)\n",
    "    a =23\n",
    "a =10\n",
    "fun()\n",
    "print(a)\n"
   ]
  },
  {
   "cell_type": "code",
   "execution_count": null,
   "metadata": {},
   "outputs": [],
   "source": [
    "import math\n",
    "a =1\n",
    "b =2\n",
    "c =3\n"
   ]
  },
  {
   "cell_type": "code",
   "execution_count": null,
   "metadata": {},
   "outputs": [],
   "source": [
    "out = print('Hello') or print('Python')\n",
    "print(out, type(out))"
   ]
  },
  {
   "cell_type": "code",
   "execution_count": null,
   "metadata": {},
   "outputs": [
    {
     "ename": "ValueError",
     "evalue": "math domain error",
     "output_type": "error",
     "traceback": [
      "\u001b[1;31m---------------------------------------------------------------------------\u001b[0m",
      "\u001b[1;31mValueError\u001b[0m                                Traceback (most recent call last)",
      "\u001b[1;32mc:\\Users\\asus\\OneDrive\\Desktop\\python\\practica.ipynb Cell 15'\u001b[0m in \u001b[0;36m<cell line: 5>\u001b[1;34m()\u001b[0m\n\u001b[0;32m      <a href='vscode-notebook-cell:/c%3A/Users/asus/OneDrive/Desktop/python/practica.ipynb#ch0000017?line=2'>3</a>\u001b[0m b\u001b[39m=\u001b[39m\u001b[39m2\u001b[39m \n\u001b[0;32m      <a href='vscode-notebook-cell:/c%3A/Users/asus/OneDrive/Desktop/python/practica.ipynb#ch0000017?line=3'>4</a>\u001b[0m c\u001b[39m=\u001b[39m\u001b[39m3\u001b[39m\n\u001b[1;32m----> <a href='vscode-notebook-cell:/c%3A/Users/asus/OneDrive/Desktop/python/practica.ipynb#ch0000017?line=4'>5</a>\u001b[0m d \u001b[39m=\u001b[39mm\u001b[39m.\u001b[39;49msqrt((b\u001b[39m*\u001b[39;49m\u001b[39m*\u001b[39;49m\u001b[39m2\u001b[39;49m)\u001b[39m-\u001b[39;49m(\u001b[39m4\u001b[39;49m\u001b[39m*\u001b[39;49ma\u001b[39m*\u001b[39;49mc))\n\u001b[0;32m      <a href='vscode-notebook-cell:/c%3A/Users/asus/OneDrive/Desktop/python/practica.ipynb#ch0000017?line=5'>6</a>\u001b[0m \u001b[39mprint\u001b[39m(d)\n",
      "\u001b[1;31mValueError\u001b[0m: math domain error"
     ]
    }
   ],
   "source": [
    "import math as m \n",
    "a=1\n",
    "b=2 \n",
    "c=3\n",
    "d =m.sqrt((b**2)-(4*a*c))\n",
    "print(d)"
   ]
  }
 ],
 "metadata": {
  "interpreter": {
   "hash": "876db7d3f8682b7e4c5477e5f1e2dc2bd1b19fe05d9aabd59218369070754b39"
  },
  "kernelspec": {
   "display_name": "Python 3.10.2 64-bit",
   "language": "python",
   "name": "python3"
  },
  "language_info": {
   "codemirror_mode": {
    "name": "ipython",
    "version": 3
   },
   "file_extension": ".py",
   "mimetype": "text/x-python",
   "name": "python",
   "nbconvert_exporter": "python",
   "pygments_lexer": "ipython3",
   "version": "3.10.2"
  },
  "orig_nbformat": 4
 },
 "nbformat": 4,
 "nbformat_minor": 2
}

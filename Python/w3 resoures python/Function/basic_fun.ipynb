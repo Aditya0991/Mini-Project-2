{
 "cells": [
  {
   "cell_type": "code",
   "execution_count": null,
   "metadata": {},
   "outputs": [],
   "source": [
    "def greatest(x,y,z):\n",
    "    return max(x,y,z)\n",
    "greatest(3,8,1)"
   ]
  },
  {
   "cell_type": "code",
   "execution_count": null,
   "metadata": {},
   "outputs": [],
   "source": [
    "def add(x):\n",
    "    return sum(x)\n",
    "lst = [1,2,3,4,5]\n",
    "add(lst)"
   ]
  },
  {
   "cell_type": "code",
   "execution_count": null,
   "metadata": {},
   "outputs": [],
   "source": [
    "def mul(x):\n",
    "    mul = 1\n",
    "    for i in x:\n",
    "        mul*=i\n",
    "    return mul\n",
    "lst = [1,2,3,4,5]\n",
    "mul(lst)"
   ]
  },
  {
   "cell_type": "code",
   "execution_count": null,
   "metadata": {},
   "outputs": [],
   "source": [
    "def r(st):\n",
    "    rev = ''.join(reversed(st))\n",
    "    return rev\n",
    "st = 'Hello World'\n",
    "r(st)"
   ]
  },
  {
   "cell_type": "code",
   "execution_count": null,
   "metadata": {},
   "outputs": [],
   "source": [
    "def fac_num(x):\n",
    "    fac = 1\n",
    "    for i in range(1,x+1):\n",
    "        fac*=i\n",
    "    return fac\n",
    "n = int(input(\"Enter the number : \"))\n",
    "fac_num(n)"
   ]
  },
  {
   "cell_type": "code",
   "execution_count": null,
   "metadata": {},
   "outputs": [],
   "source": [
    "def check(x):\n",
    "    return True if x in range(0,100) else False\n",
    "n = int(input(\"Enter the number: \"))\n",
    "check(n)"
   ]
  },
  {
   "cell_type": "code",
   "execution_count": null,
   "metadata": {},
   "outputs": [],
   "source": [
    "def count(s):\n",
    "    upp_case , low_case =0,0\n",
    "    for c in s:\n",
    "        if c.islower():\n",
    "            low_case+=1\n",
    "        elif c.isupper():\n",
    "            upp_case+=1\n",
    "    print(f'lower case alphabet in string {low_case} and upper case\\\n",
    "word {upp_case}')\n",
    "\n",
    "st = 'This Is A Testing Code'\n",
    "count(st)\n",
    "    "
   ]
  },
  {
   "cell_type": "code",
   "execution_count": 30,
   "metadata": {},
   "outputs": [
    {
     "data": {
      "text/plain": [
       "[1, 3, 2, 7]"
      ]
     },
     "execution_count": 30,
     "metadata": {},
     "output_type": "execute_result"
    }
   ],
   "source": [
    "def unique_lst(x):\n",
    "    new_lst = []\n",
    "    for i in x:\n",
    "        if i not in new_lst:\n",
    "            new_lst.append(i)\n",
    "    return new_lst\n",
    "lst = [1,3,2,1,7,2,3,1,7]\n",
    "unique_lst(lst) "
   ]
  },
  {
   "cell_type": "code",
   "execution_count": 41,
   "metadata": {},
   "outputs": [
    {
     "data": {
      "text/plain": [
       "True"
      ]
     },
     "execution_count": 41,
     "metadata": {},
     "output_type": "execute_result"
    }
   ],
   "source": [
    "def prime(x):\n",
    "    fact = 0\n",
    "    for i in range(1,x+1):\n",
    "        if x%i==0:\n",
    "            fact+=1\n",
    "    return True if fact==2 else False\n",
    "n = int(input('Enter the number : '))\n",
    "prime(n)\n"
   ]
  }
 ],
 "metadata": {
  "interpreter": {
   "hash": "876db7d3f8682b7e4c5477e5f1e2dc2bd1b19fe05d9aabd59218369070754b39"
  },
  "kernelspec": {
   "display_name": "Python 3.10.2 64-bit",
   "language": "python",
   "name": "python3"
  },
  "language_info": {
   "codemirror_mode": {
    "name": "ipython",
    "version": 3
   },
   "file_extension": ".py",
   "mimetype": "text/x-python",
   "name": "python",
   "nbconvert_exporter": "python",
   "pygments_lexer": "ipython3",
   "version": "3.10.2"
  },
  "orig_nbformat": 4
 },
 "nbformat": 4,
 "nbformat_minor": 2
}

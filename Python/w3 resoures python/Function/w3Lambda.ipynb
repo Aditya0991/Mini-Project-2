{
 "cells": [
  {
   "cell_type": "code",
   "execution_count": null,
   "metadata": {},
   "outputs": [],
   "source": [
    "#question -01\n",
    "a = lambda x:x+15\n",
    "print(a(2))\n",
    "\n",
    "b = lambda x,y:x*y\n",
    "print(b(2,3))\n"
   ]
  },
  {
   "cell_type": "code",
   "execution_count": null,
   "metadata": {},
   "outputs": [],
   "source": [
    "#question - 02\n",
    "ann = lambda x:15*x\n",
    "print(ann(4))"
   ]
  },
  {
   "cell_type": "code",
   "execution_count": null,
   "metadata": {},
   "outputs": [],
   "source": [
    "# #Question - 03\n",
    "sub_m = [('English', 88), ('Science', 90), ('Maths', 97), ('Social sciences', 82)]\n",
    "\n",
    "sub_m.sort(key=lambda x: x[1])\n",
    "print(sub_m)\n",
    "\n",
    "# a  = [2,7,1,0,6]\n",
    "# a.sort(key = 3)\n",
    "# print(a)"
   ]
  },
  {
   "cell_type": "code",
   "execution_count": null,
   "metadata": {},
   "outputs": [],
   "source": [
    "#question - 06\n",
    "lst = [1,2,3,4,5,6,7,8,9,10]\n",
    "b = list(map(lambda x:x**2,lst))\n",
    "print(b)"
   ]
  },
  {
   "cell_type": "code",
   "execution_count": null,
   "metadata": {},
   "outputs": [],
   "source": [
    "#question - 07\n",
    "starts_with = lambda x: True if x.startswith('I') else False\n",
    "print(starts_with('I'))\n"
   ]
  },
  {
   "cell_type": "code",
   "execution_count": null,
   "metadata": {},
   "outputs": [],
   "source": [
    "#question - 10\n",
    "a = 0\n",
    "b = 1\n",
    "\n",
    "num = int(input('Enter the number : '))\n",
    "# print(a,end = ' ')\n",
    "for i in range(num+1):\n",
    "    print(a,end= ' ')\n",
    "    c = a+b\n",
    "    a = b\n",
    "    b = c\n",
    "    \n"
   ]
  },
  {
   "cell_type": "code",
   "execution_count": null,
   "metadata": {},
   "outputs": [],
   "source": [
    "#question - 11\n",
    "array_nums1 = [1, 2, 3, 5, 7, 8, 9, 10]\n",
    "array_nums2 = [1, 2, 4, 8, 9]\n",
    "print(\"Original arrays:\")\n",
    "print(array_nums1)\n",
    "print(array_nums2)\n",
    "result = list(filter(lambda x: x in array_nums1, array_nums2)) \n",
    "print (\"\\nIntersection of the said arrays: \",result)\n",
    "\n",
    "##Expanded form\n",
    "# lst = []\n",
    "# for i in array_nums1:\n",
    "#     if i in array_nums2:\n",
    "#         lst.append(i)\n",
    "# print(lst)\n"
   ]
  },
  {
   "cell_type": "code",
   "execution_count": null,
   "metadata": {},
   "outputs": [],
   "source": [
    "#question - 12\n",
    "lst = [-1, 2, -3, 5, 7, 8, 9, -10]\n",
    "lst_ps = []\n",
    "lst_neg = []\n",
    "for i in lst:\n",
    "    if i>0:\n",
    "        lst_ps.append(i)\n",
    "    else:\n",
    "        lst_neg.append(i)\n",
    "lst_neg.sort()\n",
    "lst_ps.extend(lst_neg)\n",
    "print(lst_ps)\n",
    "#using lambda\\\\\n",
    "result = sorted()"
   ]
  },
  {
   "cell_type": "code",
   "execution_count": null,
   "metadata": {},
   "outputs": [],
   "source": [
    "#question - 13\n",
    "lst = [1, 2, 3, 5, 7, 8, 9, 10]\n",
    "lst_even = list(filter(lambda x : (x % 2==0),lst))\n",
    "lst_odd = list(filter(lambda x : (x % 2 !=0),lst))\n",
    "print(lst_even)\n",
    "print(lst_odd)\n",
    "# even , odd =0,0\n",
    "# for i in lst:\n",
    "#     if i%2==0:\n",
    "#         even+=1\n",
    "#     else:\n",
    "#         odd+=1\n",
    "# print(even,odd)\n",
    "lst = [1, 2, 3, 5, 7, 8, 9, 10]\n",
    "e = list(filter(lambda x :x%2==0,lst))\n",
    "o = list(filter(lambda x : x%2!=0 , lst))\n",
    "print('odd number in list : ', len(o))\n",
    "print('even number in list : ', len(e))\n",
    "        "
   ]
  },
  {
   "cell_type": "code",
   "execution_count": null,
   "metadata": {},
   "outputs": [],
   "source": [
    "#Q14 - \n",
    "weekdays = ['Monday', 'Tuesday', 'Wednesday', 'Thursday', 'Friday', 'Saturday','Sunday']\n",
    "a = filter(lambda x:x if len(x)==6 else '',weekdays)\n",
    "print(list(a))"
   ]
  },
  {
   "cell_type": "code",
   "execution_count": 2,
   "metadata": {},
   "outputs": [
    {
     "name": "stdout",
     "output_type": "stream",
     "text": [
      "[5, 7, 9]\n"
     ]
    }
   ],
   "source": [
    "#Q15 - \n",
    "lst1 = [1, 2, 3]\n",
    "lst2 = [4, 5, 6]\n",
    "a = list(map(lambda x,y : x+y,lst1,lst2))\n",
    "print(a)"
   ]
  }
 ],
 "metadata": {
  "interpreter": {
   "hash": "876db7d3f8682b7e4c5477e5f1e2dc2bd1b19fe05d9aabd59218369070754b39"
  },
  "kernelspec": {
   "display_name": "Python 3.10.2 64-bit",
   "language": "python",
   "name": "python3"
  },
  "language_info": {
   "codemirror_mode": {
    "name": "ipython",
    "version": 3
   },
   "file_extension": ".py",
   "mimetype": "text/x-python",
   "name": "python",
   "nbconvert_exporter": "python",
   "pygments_lexer": "ipython3",
   "version": "3.10.2"
  },
  "orig_nbformat": 4
 },
 "nbformat": 4,
 "nbformat_minor": 2
}

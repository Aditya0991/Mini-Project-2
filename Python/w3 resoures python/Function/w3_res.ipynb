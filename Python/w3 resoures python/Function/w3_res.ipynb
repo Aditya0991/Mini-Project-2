{
 "cells": [
  {
   "cell_type": "code",
   "execution_count": null,
   "metadata": {},
   "outputs": [],
   "source": [
    "#question1\n",
    "def gre(num1,num2,num3):\n",
    "    if num1>num2 and num1>num3:\n",
    "        print(\"Number 1 is greatest\")\n",
    "    elif num2>num3 and num2>num1:\n",
    "        print(\"Number 2 is greatest\")\n",
    "    else:\n",
    "        print(\"Number 3 is greatest\")\n",
    "gre(5,2,9)"
   ]
  },
  {
   "cell_type": "code",
   "execution_count": null,
   "metadata": {},
   "outputs": [],
   "source": [
    "#question - 2\n",
    "def sum(lst):\n",
    "    s = 0\n",
    "    for i in lst :\n",
    "        s+=i\n",
    "    return s\n",
    "lst = [1,2,3,4,5]\n",
    "sum(lst)"
   ]
  },
  {
   "cell_type": "code",
   "execution_count": null,
   "metadata": {},
   "outputs": [],
   "source": [
    "#question03\n",
    "def mul(lst):\n",
    "    m = 1\n",
    "    for i in lst:\n",
    "        m*=i\n",
    "    return m\n",
    "lst = [1,2,3,4,5]\n",
    "mul(lst)"
   ]
  },
  {
   "cell_type": "code",
   "execution_count": null,
   "metadata": {},
   "outputs": [],
   "source": [
    "#Question - 04\n",
    "def rev(st):\n",
    "    rev = ''.join(reversed(st))\n",
    "    return rev\n",
    "rev('hello')\n"
   ]
  },
  {
   "cell_type": "code",
   "execution_count": null,
   "metadata": {},
   "outputs": [],
   "source": [
    "#Question - 05\n",
    "def fact(num):\n",
    "    fact = 1\n",
    "    for i in range(1,num+1):\n",
    "        fact = fact*i\n",
    "    return fact\n",
    "fact(6)"
   ]
  },
  {
   "cell_type": "code",
   "execution_count": null,
   "metadata": {},
   "outputs": [],
   "source": [
    "#question - 06\n",
    "def ran(num):\n",
    "    if num in range(10,21):\n",
    "        print('Enter number is between 10 - 20')\n",
    "    else:\n",
    "         print('False')\n",
    "ran(21)"
   ]
  },
  {
   "cell_type": "code",
   "execution_count": null,
   "metadata": {},
   "outputs": [],
   "source": [
    "#Question - 07\n",
    "def case(st):\n",
    "    up,low=0,0\n",
    "    for i in st:\n",
    "        if i>='A' and i<='Z':\n",
    "            up+=1\n",
    "        elif i>='a' and i<='z':\n",
    "            low+=1\n",
    "    print(f'No of upper character {up}')\n",
    "    print(f'No of lower character {low}')\n",
    "case('This is a function')\n"
   ]
  },
  {
   "cell_type": "code",
   "execution_count": null,
   "metadata": {},
   "outputs": [],
   "source": [
    "#Question - 08\n",
    "def ls(lst):\n",
    "    lst1 = []\n",
    "    for i in lst:\n",
    "        if i not in lst1:\n",
    "            lst1.append(i)\n",
    "    return lst1\n",
    "ls([1,1,1,2,2,4,5,2,4])\n"
   ]
  },
  {
   "cell_type": "code",
   "execution_count": null,
   "metadata": {},
   "outputs": [],
   "source": [
    "#question -09\n",
    "def prime(num):\n",
    "    fac = 0\n",
    "    for i in range(1,num+1):\n",
    "        if num%i==0:\n",
    "            fac+=1\n",
    "    if fac>2:\n",
    "        print('Number is not prime')\n",
    "    else:\n",
    "        print('Number is prime')\n",
    "\n",
    "prime(4)"
   ]
  },
  {
   "cell_type": "code",
   "execution_count": null,
   "metadata": {},
   "outputs": [],
   "source": [
    "#question - 10\n",
    "def even(lst):\n",
    "    lst1 = []\n",
    "    for i in lst:\n",
    "        if i%2==0:\n",
    "            lst1.append(i)\n",
    "    return lst1\n",
    "lst= [1,2,3,4,5,6,7]\n",
    "even(lst)\n"
   ]
  },
  {
   "cell_type": "code",
   "execution_count": null,
   "metadata": {},
   "outputs": [],
   "source": [
    "#question - 11\n",
    "def per(num):\n",
    "    sum = 0 \n",
    "    for i in range(1,num):\n",
    "        if num% i ==0:\n",
    "            sum +=i\n",
    "    if num==sum:\n",
    "        print(\"Number is the perfect number\")\n",
    "    else:\n",
    "        print(\"Numer is not the perfect number\")\n",
    "num = int(input('Enter the number: '))\n",
    "per(num)"
   ]
  },
  {
   "cell_type": "code",
   "execution_count": null,
   "metadata": {},
   "outputs": [],
   "source": [
    "#question - 12\n",
    "def pel(st):\n",
    "    rev = ''.join(reversed(st))\n",
    "    if st == rev:\n",
    "        print(\"String is palindrom\")\n",
    "    else:\n",
    "        print(\"String is not palindrom\")\n",
    "st = input()\n",
    "pel(st)"
   ]
  },
  {
   "cell_type": "code",
   "execution_count": null,
   "metadata": {},
   "outputs": [],
   "source": [
    "#Question - 14\n",
    "def ispangram(st):\n",
    "    alp = 'abcdefghijklmnopqrstuvwxyz'\n",
    "    for char in alp:\n",
    "        if char not in st.lower():\n",
    "            return False\n",
    "    return True\n",
    "string = input()\n",
    "if ispangram(string)==True:\n",
    "    print('panagram')\n",
    "else:\n",
    "    print(\"not pangram\")"
   ]
  },
  {
   "cell_type": "code",
   "execution_count": null,
   "metadata": {},
   "outputs": [],
   "source": [
    "#queston 15\n",
    "def ques(st):\n",
    "    \n",
    "    st.sort()\n",
    "    st1 = '-'.join(st)\n",
    "    return st1\n",
    "st = input().split('-')\n",
    "ques(st)"
   ]
  },
  {
   "cell_type": "code",
   "execution_count": null,
   "metadata": {},
   "outputs": [],
   "source": [
    "#question -16\n",
    "num = range(1,11)\n",
    "lst = [i**2 for i in num]\n",
    "print(lst)"
   ]
  },
  {
   "cell_type": "code",
   "execution_count": null,
   "metadata": {},
   "outputs": [],
   "source": []
  }
 ],
 "metadata": {
  "interpreter": {
   "hash": "876db7d3f8682b7e4c5477e5f1e2dc2bd1b19fe05d9aabd59218369070754b39"
  },
  "kernelspec": {
   "display_name": "Python 3.10.2 64-bit",
   "language": "python",
   "name": "python3"
  },
  "language_info": {
   "codemirror_mode": {
    "name": "ipython",
    "version": 3
   },
   "file_extension": ".py",
   "mimetype": "text/x-python",
   "name": "python",
   "nbconvert_exporter": "python",
   "pygments_lexer": "ipython3",
   "version": "3.10.2"
  },
  "orig_nbformat": 4
 },
 "nbformat": 4,
 "nbformat_minor": 2
}

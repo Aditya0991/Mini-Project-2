{
 "cells": [
  {
   "cell_type": "code",
   "execution_count": null,
   "metadata": {},
   "outputs": [],
   "source": [
    "# ques -3\n",
    "dic1={1:10, 2:20} \n",
    "dic2={3:30, 4:40} \n",
    "dic3={5:50,6:60}\n",
    "dic4 ={}\n",
    "dic4.update(dic1)\n",
    "dic4.update(dic2)\n",
    "dic4.update(dic3)\n",
    "print(dic4)"
   ]
  },
  {
   "cell_type": "code",
   "execution_count": null,
   "metadata": {},
   "outputs": [],
   "source": []
  },
  {
   "cell_type": "code",
   "execution_count": null,
   "metadata": {},
   "outputs": [],
   "source": []
  },
  {
   "cell_type": "code",
   "execution_count": null,
   "metadata": {},
   "outputs": [],
   "source": []
  },
  {
   "cell_type": "code",
   "execution_count": null,
   "metadata": {},
   "outputs": [],
   "source": []
  },
  {
   "cell_type": "code",
   "execution_count": null,
   "metadata": {},
   "outputs": [],
   "source": []
  },
  {
   "cell_type": "code",
   "execution_count": null,
   "metadata": {},
   "outputs": [],
   "source": [
    "#ques 04\n",
    "dic1={'data1':10, 'data2':20 ,'data3':30, 'data4':40} \n",
    "find = input(\"Enter the key you want to find: \")\n",
    "if find in dic1:\n",
    "    print(\"key is present\")\n",
    "else:\n",
    "    print(\"Key is not present\")"
   ]
  },
  {
   "cell_type": "code",
   "execution_count": null,
   "metadata": {},
   "outputs": [],
   "source": [
    "#question -05\n",
    "dic1={1:10, 2:20 ,3:30, 4:40} \n",
    "\n",
    "dic2 = {i : dic1[i] for i in dic1}\n",
    "print(dic2)"
   ]
  },
  {
   "cell_type": "code",
   "execution_count": null,
   "metadata": {},
   "outputs": [],
   "source": [
    "# question-06\n",
    "num = int(input(\"Enter the number :\"))\n",
    "dct = {i : i**2 for i in range(1,num+1)}\n",
    "print(dct)"
   ]
  },
  {
   "cell_type": "code",
   "execution_count": null,
   "metadata": {},
   "outputs": [],
   "source": [
    "#question -08\n",
    "dic1={1:10, 2:20} \n",
    "dic2={3:30, 4:40}\n",
    "for i in dic2:\n",
    "    dic1[i] = dic2[i]\n",
    "print(dic1)"
   ]
  },
  {
   "cell_type": "code",
   "execution_count": null,
   "metadata": {},
   "outputs": [],
   "source": [
    "#question  -10\n",
    "dic1={1:10, 2:20 ,3:30, 4:40}\n",
    "sum = 0\n",
    "for i in dic1:\n",
    "    sum+=dic1[i]\n",
    "print(sum)"
   ]
  },
  {
   "cell_type": "code",
   "execution_count": null,
   "metadata": {},
   "outputs": [],
   "source": [
    "#question -11\n",
    "dic1={1:10, 2:20 }\n",
    "mul = 1\n",
    "for i in dic1:\n",
    "    mul*= dic1[i]\n",
    "print(mul)\n"
   ]
  },
  {
   "cell_type": "code",
   "execution_count": null,
   "metadata": {},
   "outputs": [],
   "source": [
    "#question -12\n",
    "dic1={1:10, 2:20 , 3:30, 4:40}\n",
    "dic1.pop(2)\n",
    "print(dic1)\n"
   ]
  },
  {
   "cell_type": "code",
   "execution_count": null,
   "metadata": {},
   "outputs": [],
   "source": [
    "#Dictionary Methods\n",
    "dct = {2:'Two',1 : 'One'  , 4 : 'Four' , 3: 'Three'}\n",
    "print(dct.keys())     #1\n",
    "print(dct.values())   #2\n",
    "print(dct.items())    #3\n",
    "print(sorted(dct))    #4\n",
    "print(len(dct))       #5\n",
    "print(dct.get(3))     #6\n",
    "#7 - creating dictionary without value(Fromkeys) \n",
    "lst = ['name' , 'roolno','college']\n",
    "out ={}.fromkeys(lst,'NA') \n",
    "print(out)\n",
    "#8 - updating a dictionary\n",
    "dct1 = {5:'five'}\n",
    "dct.update(dct1)\n",
    "print(dct)\n",
    "# 9 - popitem\n",
    "dct.popitem()\n",
    "\n",
    "# print(dct)"
   ]
  }
 ],
 "metadata": {
  "interpreter": {
   "hash": "1e649b193d03f972cce0fc4f5c57764441ad8ceea30bfcf30b505dea29a3b4c0"
  },
  "kernelspec": {
   "display_name": "Python 3.10.2 64-bit",
   "language": "python",
   "name": "python3"
  },
  "language_info": {
   "codemirror_mode": {
    "name": "ipython",
    "version": 3
   },
   "file_extension": ".py",
   "mimetype": "text/x-python",
   "name": "python",
   "nbconvert_exporter": "python",
   "pygments_lexer": "ipython3",
   "version": "3.10.2"
  },
  "orig_nbformat": 4
 },
 "nbformat": 4,
 "nbformat_minor": 2
}

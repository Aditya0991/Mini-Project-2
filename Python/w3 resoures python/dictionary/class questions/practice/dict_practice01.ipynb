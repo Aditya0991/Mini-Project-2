{
 "cells": [
  {
   "cell_type": "code",
   "execution_count": null,
   "metadata": {},
   "outputs": [],
   "source": [
    "# question -1 - Sorting dictionary \n",
    "d = {1: 2, 3: 4, 4: 3, 2: 1, 0: 0}\n",
    "\n",
    "s = sorted(d.values())\n",
    "d1 = {i : d[i] for i in s}\n",
    "\n",
    "s2 = sorted(d.values(),reverse = True)\n",
    "d2 = {i : d[i] for i in s2}\n",
    "\n",
    "print('Ascending : ' , d1)\n",
    "print('Descending: ', d2)\n",
    "\n",
    "asc_lst = [(i,j) for i,j in sorted(d.items())]\n",
    "des_lst = [(i,j) for i,j in sorted(d.items(),reverse = True)]\n",
    "print('Ascending list : ' , asc_lst)\n",
    "print('Descending list : ', des_lst)"
   ]
  },
  {
   "cell_type": "code",
   "execution_count": null,
   "metadata": {},
   "outputs": [],
   "source": [
    "d = {0: 10, 1: 20}\n",
    "d[3]= 30\n",
    "print(d)"
   ]
  },
  {
   "cell_type": "code",
   "execution_count": null,
   "metadata": {},
   "outputs": [],
   "source": [
    "dic1={1:10, 2:20} \n",
    "dic2={3:30, 4:40} \n",
    "dic3={5:50,6:60}\n",
    "dic1.update(dic2)\n",
    "dic1.update(dic3)\n",
    "print(dic1)"
   ]
  },
  {
   "cell_type": "code",
   "execution_count": null,
   "metadata": {},
   "outputs": [],
   "source": [
    "k = int(input())\n",
    "dic1={1:10, 2:20 , 3:30, 4:40} \n",
    "if k in dic1:\n",
    "    print(\"Key is present\")\n",
    "else:\n",
    "    print(\"key is not present\")"
   ]
  },
  {
   "cell_type": "code",
   "execution_count": null,
   "metadata": {},
   "outputs": [],
   "source": [
    "# dic1={1:10, 2:20 , 3:30, 4:40} \n",
    "# for i in dic1:\n",
    "#     print(i ,'-->' ,dic1[i])\n",
    "#method - 02\n",
    "for i , j in dic1.items():\n",
    "    print(i , '-->', j)"
   ]
  },
  {
   "cell_type": "code",
   "execution_count": null,
   "metadata": {},
   "outputs": [],
   "source": [
    "n = int(input())\n",
    "d = {i : i**2 for i in range(1,n+1)}\n",
    "print(d)"
   ]
  },
  {
   "cell_type": "code",
   "execution_count": null,
   "metadata": {},
   "outputs": [],
   "source": [
    "dic1={1:10, 2:20} \n",
    "dic2={5:50,6:60}\n",
    "dic1.update(dic2)\n",
    "print(dic1)\n",
    "#Method - 02\n",
    "for i in dic2:\n",
    "    dic1[i] = dic2[i]\n",
    "print(dic1)"
   ]
  },
  {
   "cell_type": "code",
   "execution_count": null,
   "metadata": {},
   "outputs": [],
   "source": [
    "dic1={1:10, 2:20 , 3:30, 4:40} \n",
    "sum = 0 \n",
    "for i in dic1.values():\n",
    "    sum +=i\n",
    "print(sum)"
   ]
  },
  {
   "cell_type": "code",
   "execution_count": null,
   "metadata": {},
   "outputs": [],
   "source": [
    "dic1={1:10, 2:20 ,'Three' :3 }\n",
    "mul = 1\n",
    "for i in dic1.values():\n",
    "    mul*=i\n",
    "print(mul)\n",
    "print(dic1.get(0))\n",
    "#Fromkeys\n",
    "lst = [1,2,3,4,5]\n",
    "lst1 = ['a' ]\n",
    "out = {}.fromkeys(lst,lst1)\n",
    "print(out)"
   ]
  },
  {
   "cell_type": "code",
   "execution_count": null,
   "metadata": {},
   "outputs": [],
   "source": [
    "#q13\n",
    "lst1 = ['a','b','c','d']\n",
    "lst2 = [1,2,3,4]\n",
    "\n",
    "dict = {lst1[i] : lst2[i] for i in range(len(lst1))}\n",
    "print(dict)\n",
    "#method -02\n",
    "d = list(zip(lst1,lst2))\n",
    "print(d)"
   ]
  },
  {
   "cell_type": "code",
   "execution_count": null,
   "metadata": {},
   "outputs": [],
   "source": [
    "# Python3 code to demonstrate\n",
    "# conversion of lists to dictionary\n",
    "# using zip()\n",
    "\n",
    "# initializing lists\n",
    "test_keys = [\"Rash\", \"Kil\", \"Varsha\"]\n",
    "test_values = [1, 4, 5]\n",
    "\n",
    "# Printing original keys-value lists\n",
    "print (\"Original key list is : \" + str(test_keys))\n",
    "print (\"Original value list is : \" + str(test_values))\n",
    "\n",
    "# using zip()\n",
    "# to convert lists to dictionary\n",
    "res = dict(zip(test_keys, test_values))\n",
    "\n",
    "# Printing resultant dictionary\n",
    "print (\"Resultant dictionary is : \" + str(res))\n"
   ]
  },
  {
   "cell_type": "code",
   "execution_count": null,
   "metadata": {},
   "outputs": [],
   "source": [
    "#q14\n",
    "dic1={ 2:20 , 1:10 , 3:30, 11 :110 ,4:40} \n",
    "s = sorted(dic1.keys())\n",
    "out = {key : dic1[key] for key in s}\n",
    "\n",
    "print(out)"
   ]
  },
  {
   "cell_type": "code",
   "execution_count": null,
   "metadata": {},
   "outputs": [],
   "source": [
    "dic1={ 2:20 , 1:10 , 3:30, 11 :110 ,4:40} \n",
    "min_val = min(dic1.values())\n",
    "max_val = max(dic1.values())\n",
    "print(f'min: {min_val} , max : {max_val}')"
   ]
  },
  {
   "cell_type": "code",
   "execution_count": null,
   "metadata": {},
   "outputs": [],
   "source": [
    "dct = {1:10 ,2:20 , 1:10 , 3:30 ,2:20 ,  3:30,}\n",
    "dct1 = {}\n",
    "for i in dct.keys():\n",
    "    \n",
    "    if  i!= dct1.keys()  :\n",
    "        dct1[i] = dct[i]\n",
    "print(dct1)\n"
   ]
  },
  {
   "cell_type": "code",
   "execution_count": null,
   "metadata": {},
   "outputs": [],
   "source": [
    "#q18\n",
    "dct = {}\n",
    "# dct = {1:10 ,2:20 , 1:10 , 3:30 ,2:20 ,  3:30,}\n",
    "l = len(dct.keys())\n",
    "if l == 0:\n",
    "    print(\"dictionary is empty\")\n",
    "else:\n",
    "    print('dictonary is not empty')"
   ]
  },
  {
   "cell_type": "code",
   "execution_count": null,
   "metadata": {},
   "outputs": [],
   "source": [
    "#q19\n",
    "d1 = {'a': 100, 'b': 200, 'c':300}\n",
    "d2 = {'a': 300, 'b': 342, 'd':400}\n",
    "\n",
    "for i in d1:\n",
    "    if i in d2:\n",
    "        d1[i] = d1[i] + d2[i]\n",
    "print(d1)"
   ]
  },
  {
   "cell_type": "code",
   "execution_count": null,
   "metadata": {},
   "outputs": [],
   "source": [
    "#q20\n",
    "dict = {'511':'Vishnu','512':'Vishnu','513':'Ram','514':'Ram','515':'sita'}\n",
    "list =[] # create empty list\n",
    "for val in dict.values(): \n",
    "  if val not in list: \n",
    "    list.append(val)\n",
    "\n",
    "    \n",
    "print (list)"
   ]
  },
  {
   "cell_type": "code",
   "execution_count": null,
   "metadata": {},
   "outputs": [],
   "source": [
    "# #q21\n",
    "# dct = {'1': ['a','b'] , '2' : ['c','d']}\n",
    "# lst = list(dct.values())\n",
    "# # print(dct.values())\n",
    "# for i in lst[0]:\n",
    "#     for j in lst[1]:\n",
    "#         print(i+j)\n",
    "\n",
    "# my_dict= {'1':['a', 'b'], '2':['c', 'd']}\n",
    "# my_list= list(my_dict.values())\n",
    "# for i in my_list[0]:\n",
    "#     for j in my_list[1]:\n",
    "#         print(i+j)\n",
    "\n",
    "dic = {'1':['a','b'], '2':['c','d']}   \n",
    "print(dic.values())\n",
    "for x ,y in dic.values():\n",
    "    print(x,y,sep = '')"
   ]
  },
  {
   "cell_type": "code",
   "execution_count": 23,
   "metadata": {},
   "outputs": [
    {
     "name": "stdout",
     "output_type": "stream",
     "text": [
      "Initial Dictionary:\n",
      "{'A': 67, 'B': 23, 'C': 45, 'D': 56, 'E': 12, 'F': 69} \n",
      "\n",
      "Dictionary with 3 highest values:\n",
      "Keys: Values\n",
      "F  : 69  \n",
      "A  : 67  \n",
      "D  : 56  \n"
     ]
    }
   ],
   "source": [
    "#Q22 - \n",
    "from collections import Counter\n",
    " \n",
    "# Initial Dictionary\n",
    "my_dict = {'A': 67, 'B': 23, 'C': 45,\n",
    "           'D': 56, 'E': 12, 'F': 69}\n",
    " \n",
    "k = Counter(my_dict)\n",
    " \n",
    "# Finding 3 highest values\n",
    "high = k.most_common(3)\n",
    " \n",
    "print(\"Initial Dictionary:\")\n",
    "print(my_dict, \"\\n\")\n",
    " \n",
    " \n",
    "print(\"Dictionary with 3 highest values:\")\n",
    "print(\"Keys: Values\")\n",
    " \n",
    "for i in high:\n",
    "    print(i[0],\" :\",i[1],\" \")"
   ]
  }
 ],
 "metadata": {
  "interpreter": {
   "hash": "876db7d3f8682b7e4c5477e5f1e2dc2bd1b19fe05d9aabd59218369070754b39"
  },
  "kernelspec": {
   "display_name": "Python 3.10.2 64-bit",
   "language": "python",
   "name": "python3"
  },
  "language_info": {
   "codemirror_mode": {
    "name": "ipython",
    "version": 3
   },
   "file_extension": ".py",
   "mimetype": "text/x-python",
   "name": "python",
   "nbconvert_exporter": "python",
   "pygments_lexer": "ipython3",
   "version": "3.10.2"
  },
  "orig_nbformat": 4
 },
 "nbformat": 4,
 "nbformat_minor": 2
}
